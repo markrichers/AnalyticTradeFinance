{
 "cells": [
  {
   "cell_type": "code",
   "execution_count": 1,
   "metadata": {},
   "outputs": [
    {
     "data": {
      "text/plain": [
       "1432.2458863963616"
      ]
     },
     "execution_count": 1,
     "metadata": {},
     "output_type": "execute_result"
    }
   ],
   "source": [
    "# Define variables\n",
    "P = 300000  # Loan amount in euros\n",
    "annual_interest_rate = 0.04  # Annual interest rate (4%)\n",
    "monthly_interest_rate = annual_interest_rate / 12  # Monthly interest rate\n",
    "loan_term_years = 30  # Loan term in years\n",
    "n = loan_term_years * 12  # Total number of monthly payments\n",
    "\n",
    "# Calculate monthly payment using the PMT formula\n",
    "monthly_payment = (P * monthly_interest_rate * (1 + monthly_interest_rate) ** n) / \\\n",
    "                  ((1 + monthly_interest_rate) ** n - 1)\n",
    "monthly_payment"
   ]
  },
  {
   "cell_type": "code",
   "execution_count": null,
   "metadata": {},
   "outputs": [],
   "source": []
  }
 ],
 "metadata": {
  "kernelspec": {
   "display_name": "Python 3",
   "language": "python",
   "name": "python3"
  },
  "language_info": {
   "codemirror_mode": {
    "name": "ipython",
    "version": 3
   },
   "file_extension": ".py",
   "mimetype": "text/x-python",
   "name": "python",
   "nbconvert_exporter": "python",
   "pygments_lexer": "ipython3",
   "version": "3.12.4"
  }
 },
 "nbformat": 4,
 "nbformat_minor": 2
}
